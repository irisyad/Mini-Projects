{
 "cells": [
  {
   "cell_type": "markdown",
   "id": "af6ff53e",
   "metadata": {},
   "source": [
    "# Required Libraries"
   ]
  },
  {
   "cell_type": "markdown",
   "id": "eb91178d",
   "metadata": {},
   "source": [
    "- [`Faker`](https://github.com/joke2k/faker): To generate fake names\n",
    "- [`names-dataset`](https://github.com/philipperemy/name-dataset): To get gender and country info"
   ]
  },
  {
   "cell_type": "code",
   "execution_count": 1,
   "id": "224de94e",
   "metadata": {},
   "outputs": [],
   "source": [
    "import numpy as np\n",
    "import pandas as pd\n",
    "from faker import Faker\n",
    "from names_dataset import NameDataset"
   ]
  },
  {
   "cell_type": "code",
   "execution_count": 2,
   "id": "9ca85875",
   "metadata": {},
   "outputs": [],
   "source": [
    "en_fake =Faker()\n",
    "fa_fake =Faker('Fa')\n",
    "nd = NameDataset()"
   ]
  },
  {
   "cell_type": "code",
   "execution_count": 3,
   "id": "d4bb8b50",
   "metadata": {},
   "outputs": [],
   "source": [
    "def make_name():\n",
    "    if np.random.rand() > 0.5:\n",
    "        return fa_fake.name()\n",
    "    return en_fake.name()"
   ]
  },
  {
   "cell_type": "code",
   "execution_count": 4,
   "id": "b753124a",
   "metadata": {},
   "outputs": [],
   "source": [
    "df = pd.DataFrame({\n",
    "    'Name':[make_name() for _ in range (10)]\n",
    "})"
   ]
  },
  {
   "cell_type": "code",
   "execution_count": 5,
   "id": "d8bc36af",
   "metadata": {},
   "outputs": [
    {
     "data": {
      "text/html": [
       "<div>\n",
       "<style scoped>\n",
       "    .dataframe tbody tr th:only-of-type {\n",
       "        vertical-align: middle;\n",
       "    }\n",
       "\n",
       "    .dataframe tbody tr th {\n",
       "        vertical-align: top;\n",
       "    }\n",
       "\n",
       "    .dataframe thead th {\n",
       "        text-align: right;\n",
       "    }\n",
       "</style>\n",
       "<table border=\"1\" class=\"dataframe\">\n",
       "  <thead>\n",
       "    <tr style=\"text-align: right;\">\n",
       "      <th></th>\n",
       "      <th>Name</th>\n",
       "    </tr>\n",
       "  </thead>\n",
       "  <tbody>\n",
       "    <tr>\n",
       "      <th>0</th>\n",
       "      <td>Timothy Jenkins</td>\n",
       "    </tr>\n",
       "    <tr>\n",
       "      <th>1</th>\n",
       "      <td>Jordan Patton</td>\n",
       "    </tr>\n",
       "    <tr>\n",
       "      <th>2</th>\n",
       "      <td>Juan White</td>\n",
       "    </tr>\n",
       "    <tr>\n",
       "      <th>3</th>\n",
       "      <td>Catherine Jennings</td>\n",
       "    </tr>\n",
       "    <tr>\n",
       "      <th>4</th>\n",
       "      <td>مهدي تهرانی</td>\n",
       "    </tr>\n",
       "    <tr>\n",
       "      <th>5</th>\n",
       "      <td>Philip Huber</td>\n",
       "    </tr>\n",
       "    <tr>\n",
       "      <th>6</th>\n",
       "      <td>سوگند محمد پور</td>\n",
       "    </tr>\n",
       "    <tr>\n",
       "      <th>7</th>\n",
       "      <td>Michael Jones</td>\n",
       "    </tr>\n",
       "    <tr>\n",
       "      <th>8</th>\n",
       "      <td>یگانه معروف</td>\n",
       "    </tr>\n",
       "    <tr>\n",
       "      <th>9</th>\n",
       "      <td>ريحانه رفیعی</td>\n",
       "    </tr>\n",
       "  </tbody>\n",
       "</table>\n",
       "</div>"
      ],
      "text/plain": [
       "                 Name\n",
       "0     Timothy Jenkins\n",
       "1       Jordan Patton\n",
       "2          Juan White\n",
       "3  Catherine Jennings\n",
       "4         مهدي تهرانی\n",
       "5        Philip Huber\n",
       "6      سوگند محمد پور\n",
       "7       Michael Jones\n",
       "8         یگانه معروف\n",
       "9        ريحانه رفیعی"
      ]
     },
     "execution_count": 5,
     "metadata": {},
     "output_type": "execute_result"
    }
   ],
   "source": [
    "df"
   ]
  },
  {
   "cell_type": "markdown",
   "id": "7878d904",
   "metadata": {},
   "source": [
    "# Exteract First Name and Last Name"
   ]
  },
  {
   "cell_type": "code",
   "execution_count": 6,
   "id": "42f3e2b6",
   "metadata": {},
   "outputs": [],
   "source": [
    "df['First Name'] = df['Name'].apply(\n",
    "    lambda full_name: full_name.split()[0]\n",
    ")"
   ]
  },
  {
   "cell_type": "code",
   "execution_count": 7,
   "id": "7d05349e",
   "metadata": {},
   "outputs": [],
   "source": [
    "df['Last Name'] = df['Name'].apply(\n",
    "    lambda full_name: full_name.split()[1]\n",
    ")"
   ]
  },
  {
   "cell_type": "markdown",
   "id": "90be1475",
   "metadata": {},
   "source": [
    "# predict Gender"
   ]
  },
  {
   "cell_type": "code",
   "execution_count": 8,
   "id": "80ce0ae7",
   "metadata": {},
   "outputs": [
    {
     "data": {
      "text/plain": [
       "{'Female': 0.17, 'Male': 0.83}"
      ]
     },
     "execution_count": 8,
     "metadata": {},
     "output_type": "execute_result"
    }
   ],
   "source": [
    "nd.search('Cory')['first_name']['gender']"
   ]
  },
  {
   "cell_type": "code",
   "execution_count": 9,
   "id": "e6f39928",
   "metadata": {},
   "outputs": [],
   "source": [
    "#max(output ,key = output.get)"
   ]
  },
  {
   "cell_type": "code",
   "execution_count": 10,
   "id": "31d2a3c1",
   "metadata": {},
   "outputs": [],
   "source": [
    "def name_to_gender(first_name):\n",
    "    info = nd.search(first_name)['first_name']\n",
    "    if info is None:\n",
    "        return\n",
    "    return max(info['gender'] ,key = info['gender'].get)"
   ]
  },
  {
   "cell_type": "code",
   "execution_count": 11,
   "id": "4a58a99c",
   "metadata": {},
   "outputs": [],
   "source": [
    "df['Gender'] = df['First Name'].apply(name_to_gender)"
   ]
  },
  {
   "cell_type": "code",
   "execution_count": 12,
   "id": "917ff48a",
   "metadata": {},
   "outputs": [
    {
     "data": {
      "text/html": [
       "<div>\n",
       "<style scoped>\n",
       "    .dataframe tbody tr th:only-of-type {\n",
       "        vertical-align: middle;\n",
       "    }\n",
       "\n",
       "    .dataframe tbody tr th {\n",
       "        vertical-align: top;\n",
       "    }\n",
       "\n",
       "    .dataframe thead th {\n",
       "        text-align: right;\n",
       "    }\n",
       "</style>\n",
       "<table border=\"1\" class=\"dataframe\">\n",
       "  <thead>\n",
       "    <tr style=\"text-align: right;\">\n",
       "      <th></th>\n",
       "      <th>Name</th>\n",
       "      <th>First Name</th>\n",
       "      <th>Last Name</th>\n",
       "      <th>Gender</th>\n",
       "    </tr>\n",
       "  </thead>\n",
       "  <tbody>\n",
       "    <tr>\n",
       "      <th>0</th>\n",
       "      <td>Timothy Jenkins</td>\n",
       "      <td>Timothy</td>\n",
       "      <td>Jenkins</td>\n",
       "      <td>Male</td>\n",
       "    </tr>\n",
       "    <tr>\n",
       "      <th>1</th>\n",
       "      <td>Jordan Patton</td>\n",
       "      <td>Jordan</td>\n",
       "      <td>Patton</td>\n",
       "      <td>Male</td>\n",
       "    </tr>\n",
       "    <tr>\n",
       "      <th>2</th>\n",
       "      <td>Juan White</td>\n",
       "      <td>Juan</td>\n",
       "      <td>White</td>\n",
       "      <td>Male</td>\n",
       "    </tr>\n",
       "    <tr>\n",
       "      <th>3</th>\n",
       "      <td>Catherine Jennings</td>\n",
       "      <td>Catherine</td>\n",
       "      <td>Jennings</td>\n",
       "      <td>Female</td>\n",
       "    </tr>\n",
       "    <tr>\n",
       "      <th>4</th>\n",
       "      <td>مهدي تهرانی</td>\n",
       "      <td>مهدي</td>\n",
       "      <td>تهرانی</td>\n",
       "      <td>Male</td>\n",
       "    </tr>\n",
       "    <tr>\n",
       "      <th>5</th>\n",
       "      <td>Philip Huber</td>\n",
       "      <td>Philip</td>\n",
       "      <td>Huber</td>\n",
       "      <td>Male</td>\n",
       "    </tr>\n",
       "    <tr>\n",
       "      <th>6</th>\n",
       "      <td>سوگند محمد پور</td>\n",
       "      <td>سوگند</td>\n",
       "      <td>محمد</td>\n",
       "      <td>Female</td>\n",
       "    </tr>\n",
       "    <tr>\n",
       "      <th>7</th>\n",
       "      <td>Michael Jones</td>\n",
       "      <td>Michael</td>\n",
       "      <td>Jones</td>\n",
       "      <td>Male</td>\n",
       "    </tr>\n",
       "    <tr>\n",
       "      <th>8</th>\n",
       "      <td>یگانه معروف</td>\n",
       "      <td>یگانه</td>\n",
       "      <td>معروف</td>\n",
       "      <td>Female</td>\n",
       "    </tr>\n",
       "    <tr>\n",
       "      <th>9</th>\n",
       "      <td>ريحانه رفیعی</td>\n",
       "      <td>ريحانه</td>\n",
       "      <td>رفیعی</td>\n",
       "      <td>Female</td>\n",
       "    </tr>\n",
       "  </tbody>\n",
       "</table>\n",
       "</div>"
      ],
      "text/plain": [
       "                 Name First Name Last Name  Gender\n",
       "0     Timothy Jenkins    Timothy   Jenkins    Male\n",
       "1       Jordan Patton     Jordan    Patton    Male\n",
       "2          Juan White       Juan     White    Male\n",
       "3  Catherine Jennings  Catherine  Jennings  Female\n",
       "4         مهدي تهرانی       مهدي    تهرانی    Male\n",
       "5        Philip Huber     Philip     Huber    Male\n",
       "6      سوگند محمد پور      سوگند      محمد  Female\n",
       "7       Michael Jones    Michael     Jones    Male\n",
       "8         یگانه معروف      یگانه     معروف  Female\n",
       "9        ريحانه رفیعی     ريحانه     رفیعی  Female"
      ]
     },
     "execution_count": 12,
     "metadata": {},
     "output_type": "execute_result"
    }
   ],
   "source": [
    "df"
   ]
  },
  {
   "cell_type": "markdown",
   "id": "17858733",
   "metadata": {},
   "source": [
    "# Gender probability "
   ]
  },
  {
   "cell_type": "code",
   "execution_count": 13,
   "id": "018dffa5",
   "metadata": {},
   "outputs": [],
   "source": [
    "def gender_probability(first_name):\n",
    "    info = nd.search(first_name)['first_name']\n",
    "    if info is None:\n",
    "        return\n",
    "    Ge = max(info['gender'] ,key = info['gender'].get)\n",
    "    return nd.search(first_name)['first_name']['gender'][Ge]"
   ]
  },
  {
   "cell_type": "code",
   "execution_count": 14,
   "id": "a2b1e5d4",
   "metadata": {},
   "outputs": [
    {
     "data": {
      "text/plain": [
       "0.985"
      ]
     },
     "execution_count": 14,
     "metadata": {},
     "output_type": "execute_result"
    }
   ],
   "source": [
    "gender_probability('iris')"
   ]
  },
  {
   "cell_type": "code",
   "execution_count": 15,
   "id": "7b61764b",
   "metadata": {},
   "outputs": [],
   "source": [
    "df['Gender Probability'] = df['First Name'].apply(gender_probability)"
   ]
  },
  {
   "cell_type": "code",
   "execution_count": 16,
   "id": "aac3a982",
   "metadata": {},
   "outputs": [
    {
     "data": {
      "text/html": [
       "<div>\n",
       "<style scoped>\n",
       "    .dataframe tbody tr th:only-of-type {\n",
       "        vertical-align: middle;\n",
       "    }\n",
       "\n",
       "    .dataframe tbody tr th {\n",
       "        vertical-align: top;\n",
       "    }\n",
       "\n",
       "    .dataframe thead th {\n",
       "        text-align: right;\n",
       "    }\n",
       "</style>\n",
       "<table border=\"1\" class=\"dataframe\">\n",
       "  <thead>\n",
       "    <tr style=\"text-align: right;\">\n",
       "      <th></th>\n",
       "      <th>Name</th>\n",
       "      <th>First Name</th>\n",
       "      <th>Last Name</th>\n",
       "      <th>Gender</th>\n",
       "      <th>Gender Probability</th>\n",
       "    </tr>\n",
       "  </thead>\n",
       "  <tbody>\n",
       "    <tr>\n",
       "      <th>0</th>\n",
       "      <td>Timothy Jenkins</td>\n",
       "      <td>Timothy</td>\n",
       "      <td>Jenkins</td>\n",
       "      <td>Male</td>\n",
       "      <td>0.988</td>\n",
       "    </tr>\n",
       "    <tr>\n",
       "      <th>1</th>\n",
       "      <td>Jordan Patton</td>\n",
       "      <td>Jordan</td>\n",
       "      <td>Patton</td>\n",
       "      <td>Male</td>\n",
       "      <td>0.893</td>\n",
       "    </tr>\n",
       "    <tr>\n",
       "      <th>2</th>\n",
       "      <td>Juan White</td>\n",
       "      <td>Juan</td>\n",
       "      <td>White</td>\n",
       "      <td>Male</td>\n",
       "      <td>0.987</td>\n",
       "    </tr>\n",
       "    <tr>\n",
       "      <th>3</th>\n",
       "      <td>Catherine Jennings</td>\n",
       "      <td>Catherine</td>\n",
       "      <td>Jennings</td>\n",
       "      <td>Female</td>\n",
       "      <td>0.994</td>\n",
       "    </tr>\n",
       "    <tr>\n",
       "      <th>4</th>\n",
       "      <td>مهدي تهرانی</td>\n",
       "      <td>مهدي</td>\n",
       "      <td>تهرانی</td>\n",
       "      <td>Male</td>\n",
       "      <td>0.967</td>\n",
       "    </tr>\n",
       "    <tr>\n",
       "      <th>5</th>\n",
       "      <td>Philip Huber</td>\n",
       "      <td>Philip</td>\n",
       "      <td>Huber</td>\n",
       "      <td>Male</td>\n",
       "      <td>0.988</td>\n",
       "    </tr>\n",
       "    <tr>\n",
       "      <th>6</th>\n",
       "      <td>سوگند محمد پور</td>\n",
       "      <td>سوگند</td>\n",
       "      <td>محمد</td>\n",
       "      <td>Female</td>\n",
       "      <td>0.915</td>\n",
       "    </tr>\n",
       "    <tr>\n",
       "      <th>7</th>\n",
       "      <td>Michael Jones</td>\n",
       "      <td>Michael</td>\n",
       "      <td>Jones</td>\n",
       "      <td>Male</td>\n",
       "      <td>0.992</td>\n",
       "    </tr>\n",
       "    <tr>\n",
       "      <th>8</th>\n",
       "      <td>یگانه معروف</td>\n",
       "      <td>یگانه</td>\n",
       "      <td>معروف</td>\n",
       "      <td>Female</td>\n",
       "      <td>0.812</td>\n",
       "    </tr>\n",
       "    <tr>\n",
       "      <th>9</th>\n",
       "      <td>ريحانه رفیعی</td>\n",
       "      <td>ريحانه</td>\n",
       "      <td>رفیعی</td>\n",
       "      <td>Female</td>\n",
       "      <td>0.900</td>\n",
       "    </tr>\n",
       "  </tbody>\n",
       "</table>\n",
       "</div>"
      ],
      "text/plain": [
       "                 Name First Name Last Name  Gender  Gender Probability\n",
       "0     Timothy Jenkins    Timothy   Jenkins    Male               0.988\n",
       "1       Jordan Patton     Jordan    Patton    Male               0.893\n",
       "2          Juan White       Juan     White    Male               0.987\n",
       "3  Catherine Jennings  Catherine  Jennings  Female               0.994\n",
       "4         مهدي تهرانی       مهدي    تهرانی    Male               0.967\n",
       "5        Philip Huber     Philip     Huber    Male               0.988\n",
       "6      سوگند محمد پور      سوگند      محمد  Female               0.915\n",
       "7       Michael Jones    Michael     Jones    Male               0.992\n",
       "8         یگانه معروف      یگانه     معروف  Female               0.812\n",
       "9        ريحانه رفیعی     ريحانه     رفیعی  Female               0.900"
      ]
     },
     "execution_count": 16,
     "metadata": {},
     "output_type": "execute_result"
    }
   ],
   "source": [
    "df"
   ]
  },
  {
   "cell_type": "markdown",
   "id": "5b2f4a0c",
   "metadata": {},
   "source": [
    "# predict Country "
   ]
  },
  {
   "cell_type": "code",
   "execution_count": 17,
   "id": "03178a64",
   "metadata": {},
   "outputs": [
    {
     "data": {
      "text/plain": [
       "{'United Arab Emirates': 0.037,\n",
       " 'Algeria': 0.054,\n",
       " 'Egypt': 0.149,\n",
       " 'Iraq': 0.142,\n",
       " 'Iran, Islamic Republic of': 0.052,\n",
       " 'Morocco': 0.079,\n",
       " 'Saudi Arabia': 0.146,\n",
       " 'Syrian Arab Republic': 0.05,\n",
       " 'Tunisia': 0.04,\n",
       " 'Turkey': 0.25}"
      ]
     },
     "execution_count": 17,
     "metadata": {},
     "output_type": "execute_result"
    }
   ],
   "source": [
    "nd.search('Ali')['first_name']['country']"
   ]
  },
  {
   "cell_type": "code",
   "execution_count": 18,
   "id": "e5b7ebb3",
   "metadata": {},
   "outputs": [],
   "source": [
    "def name_to_country(first_name):\n",
    "    info = nd.search(first_name)['first_name']\n",
    "    if info is None:\n",
    "        return\n",
    "    return max(info['country'] ,key = info['country'].get)"
   ]
  },
  {
   "cell_type": "code",
   "execution_count": 19,
   "id": "a692d2eb",
   "metadata": {},
   "outputs": [],
   "source": [
    "df['Country'] = df['First Name'].apply(name_to_country)"
   ]
  },
  {
   "cell_type": "code",
   "execution_count": 20,
   "id": "66ef93f2",
   "metadata": {},
   "outputs": [
    {
     "data": {
      "text/html": [
       "<div>\n",
       "<style scoped>\n",
       "    .dataframe tbody tr th:only-of-type {\n",
       "        vertical-align: middle;\n",
       "    }\n",
       "\n",
       "    .dataframe tbody tr th {\n",
       "        vertical-align: top;\n",
       "    }\n",
       "\n",
       "    .dataframe thead th {\n",
       "        text-align: right;\n",
       "    }\n",
       "</style>\n",
       "<table border=\"1\" class=\"dataframe\">\n",
       "  <thead>\n",
       "    <tr style=\"text-align: right;\">\n",
       "      <th></th>\n",
       "      <th>Name</th>\n",
       "      <th>First Name</th>\n",
       "      <th>Last Name</th>\n",
       "      <th>Gender</th>\n",
       "      <th>Gender Probability</th>\n",
       "      <th>Country</th>\n",
       "    </tr>\n",
       "  </thead>\n",
       "  <tbody>\n",
       "    <tr>\n",
       "      <th>0</th>\n",
       "      <td>Timothy Jenkins</td>\n",
       "      <td>Timothy</td>\n",
       "      <td>Jenkins</td>\n",
       "      <td>Male</td>\n",
       "      <td>0.988</td>\n",
       "      <td>United States</td>\n",
       "    </tr>\n",
       "    <tr>\n",
       "      <th>1</th>\n",
       "      <td>Jordan Patton</td>\n",
       "      <td>Jordan</td>\n",
       "      <td>Patton</td>\n",
       "      <td>Male</td>\n",
       "      <td>0.893</td>\n",
       "      <td>United States</td>\n",
       "    </tr>\n",
       "    <tr>\n",
       "      <th>2</th>\n",
       "      <td>Juan White</td>\n",
       "      <td>Juan</td>\n",
       "      <td>White</td>\n",
       "      <td>Male</td>\n",
       "      <td>0.987</td>\n",
       "      <td>Colombia</td>\n",
       "    </tr>\n",
       "    <tr>\n",
       "      <th>3</th>\n",
       "      <td>Catherine Jennings</td>\n",
       "      <td>Catherine</td>\n",
       "      <td>Jennings</td>\n",
       "      <td>Female</td>\n",
       "      <td>0.994</td>\n",
       "      <td>France</td>\n",
       "    </tr>\n",
       "    <tr>\n",
       "      <th>4</th>\n",
       "      <td>مهدي تهرانی</td>\n",
       "      <td>مهدي</td>\n",
       "      <td>تهرانی</td>\n",
       "      <td>Male</td>\n",
       "      <td>0.967</td>\n",
       "      <td>Iraq</td>\n",
       "    </tr>\n",
       "    <tr>\n",
       "      <th>5</th>\n",
       "      <td>Philip Huber</td>\n",
       "      <td>Philip</td>\n",
       "      <td>Huber</td>\n",
       "      <td>Male</td>\n",
       "      <td>0.988</td>\n",
       "      <td>United Kingdom</td>\n",
       "    </tr>\n",
       "    <tr>\n",
       "      <th>6</th>\n",
       "      <td>سوگند محمد پور</td>\n",
       "      <td>سوگند</td>\n",
       "      <td>محمد</td>\n",
       "      <td>Female</td>\n",
       "      <td>0.915</td>\n",
       "      <td>Iran, Islamic Republic of</td>\n",
       "    </tr>\n",
       "    <tr>\n",
       "      <th>7</th>\n",
       "      <td>Michael Jones</td>\n",
       "      <td>Michael</td>\n",
       "      <td>Jones</td>\n",
       "      <td>Male</td>\n",
       "      <td>0.992</td>\n",
       "      <td>United States</td>\n",
       "    </tr>\n",
       "    <tr>\n",
       "      <th>8</th>\n",
       "      <td>یگانه معروف</td>\n",
       "      <td>یگانه</td>\n",
       "      <td>معروف</td>\n",
       "      <td>Female</td>\n",
       "      <td>0.812</td>\n",
       "      <td>Iran, Islamic Republic of</td>\n",
       "    </tr>\n",
       "    <tr>\n",
       "      <th>9</th>\n",
       "      <td>ريحانه رفیعی</td>\n",
       "      <td>ريحانه</td>\n",
       "      <td>رفیعی</td>\n",
       "      <td>Female</td>\n",
       "      <td>0.900</td>\n",
       "      <td>Iraq</td>\n",
       "    </tr>\n",
       "  </tbody>\n",
       "</table>\n",
       "</div>"
      ],
      "text/plain": [
       "                 Name First Name Last Name  Gender  Gender Probability  \\\n",
       "0     Timothy Jenkins    Timothy   Jenkins    Male               0.988   \n",
       "1       Jordan Patton     Jordan    Patton    Male               0.893   \n",
       "2          Juan White       Juan     White    Male               0.987   \n",
       "3  Catherine Jennings  Catherine  Jennings  Female               0.994   \n",
       "4         مهدي تهرانی       مهدي    تهرانی    Male               0.967   \n",
       "5        Philip Huber     Philip     Huber    Male               0.988   \n",
       "6      سوگند محمد پور      سوگند      محمد  Female               0.915   \n",
       "7       Michael Jones    Michael     Jones    Male               0.992   \n",
       "8         یگانه معروف      یگانه     معروف  Female               0.812   \n",
       "9        ريحانه رفیعی     ريحانه     رفیعی  Female               0.900   \n",
       "\n",
       "                     Country  \n",
       "0              United States  \n",
       "1              United States  \n",
       "2                   Colombia  \n",
       "3                     France  \n",
       "4                       Iraq  \n",
       "5             United Kingdom  \n",
       "6  Iran, Islamic Republic of  \n",
       "7              United States  \n",
       "8  Iran, Islamic Republic of  \n",
       "9                       Iraq  "
      ]
     },
     "execution_count": 20,
     "metadata": {},
     "output_type": "execute_result"
    }
   ],
   "source": [
    "df"
   ]
  },
  {
   "cell_type": "markdown",
   "id": "b1bd0c24",
   "metadata": {},
   "source": [
    "# Country probability"
   ]
  },
  {
   "cell_type": "code",
   "execution_count": 21,
   "id": "b41cab6e",
   "metadata": {},
   "outputs": [
    {
     "data": {
      "text/plain": [
       "0.149"
      ]
     },
     "execution_count": 21,
     "metadata": {},
     "output_type": "execute_result"
    }
   ],
   "source": [
    "nd.search('Ali')['first_name']['country']['Egypt']"
   ]
  },
  {
   "cell_type": "code",
   "execution_count": 22,
   "id": "db369b23",
   "metadata": {},
   "outputs": [],
   "source": [
    "def country_probability(first_name):\n",
    "    info = nd.search(first_name)['first_name']\n",
    "    if info is None:\n",
    "        return\n",
    "    Cu = max(info['country'] ,key = info['country'].get)\n",
    "    return nd.search(first_name)['first_name']['country'][Cu]"
   ]
  },
  {
   "cell_type": "code",
   "execution_count": 23,
   "id": "50817c63",
   "metadata": {},
   "outputs": [],
   "source": [
    "df['Country probability'] = df['First Name'].apply(country_probability)"
   ]
  },
  {
   "cell_type": "code",
   "execution_count": 24,
   "id": "9084351a",
   "metadata": {},
   "outputs": [
    {
     "data": {
      "text/html": [
       "<div>\n",
       "<style scoped>\n",
       "    .dataframe tbody tr th:only-of-type {\n",
       "        vertical-align: middle;\n",
       "    }\n",
       "\n",
       "    .dataframe tbody tr th {\n",
       "        vertical-align: top;\n",
       "    }\n",
       "\n",
       "    .dataframe thead th {\n",
       "        text-align: right;\n",
       "    }\n",
       "</style>\n",
       "<table border=\"1\" class=\"dataframe\">\n",
       "  <thead>\n",
       "    <tr style=\"text-align: right;\">\n",
       "      <th></th>\n",
       "      <th>Name</th>\n",
       "      <th>First Name</th>\n",
       "      <th>Last Name</th>\n",
       "      <th>Gender</th>\n",
       "      <th>Gender Probability</th>\n",
       "      <th>Country</th>\n",
       "      <th>Country probability</th>\n",
       "    </tr>\n",
       "  </thead>\n",
       "  <tbody>\n",
       "    <tr>\n",
       "      <th>0</th>\n",
       "      <td>Timothy Jenkins</td>\n",
       "      <td>Timothy</td>\n",
       "      <td>Jenkins</td>\n",
       "      <td>Male</td>\n",
       "      <td>0.988</td>\n",
       "      <td>United States</td>\n",
       "      <td>0.530</td>\n",
       "    </tr>\n",
       "    <tr>\n",
       "      <th>1</th>\n",
       "      <td>Jordan Patton</td>\n",
       "      <td>Jordan</td>\n",
       "      <td>Patton</td>\n",
       "      <td>Male</td>\n",
       "      <td>0.893</td>\n",
       "      <td>United States</td>\n",
       "      <td>0.342</td>\n",
       "    </tr>\n",
       "    <tr>\n",
       "      <th>2</th>\n",
       "      <td>Juan White</td>\n",
       "      <td>Juan</td>\n",
       "      <td>White</td>\n",
       "      <td>Male</td>\n",
       "      <td>0.987</td>\n",
       "      <td>Colombia</td>\n",
       "      <td>0.235</td>\n",
       "    </tr>\n",
       "    <tr>\n",
       "      <th>3</th>\n",
       "      <td>Catherine Jennings</td>\n",
       "      <td>Catherine</td>\n",
       "      <td>Jennings</td>\n",
       "      <td>Female</td>\n",
       "      <td>0.994</td>\n",
       "      <td>France</td>\n",
       "      <td>0.485</td>\n",
       "    </tr>\n",
       "    <tr>\n",
       "      <th>4</th>\n",
       "      <td>مهدي تهرانی</td>\n",
       "      <td>مهدي</td>\n",
       "      <td>تهرانی</td>\n",
       "      <td>Male</td>\n",
       "      <td>0.967</td>\n",
       "      <td>Iraq</td>\n",
       "      <td>0.589</td>\n",
       "    </tr>\n",
       "    <tr>\n",
       "      <th>5</th>\n",
       "      <td>Philip Huber</td>\n",
       "      <td>Philip</td>\n",
       "      <td>Huber</td>\n",
       "      <td>Male</td>\n",
       "      <td>0.988</td>\n",
       "      <td>United Kingdom</td>\n",
       "      <td>0.306</td>\n",
       "    </tr>\n",
       "    <tr>\n",
       "      <th>6</th>\n",
       "      <td>سوگند محمد پور</td>\n",
       "      <td>سوگند</td>\n",
       "      <td>محمد</td>\n",
       "      <td>Female</td>\n",
       "      <td>0.915</td>\n",
       "      <td>Iran, Islamic Republic of</td>\n",
       "      <td>0.804</td>\n",
       "    </tr>\n",
       "    <tr>\n",
       "      <th>7</th>\n",
       "      <td>Michael Jones</td>\n",
       "      <td>Michael</td>\n",
       "      <td>Jones</td>\n",
       "      <td>Male</td>\n",
       "      <td>0.992</td>\n",
       "      <td>United States</td>\n",
       "      <td>0.407</td>\n",
       "    </tr>\n",
       "    <tr>\n",
       "      <th>8</th>\n",
       "      <td>یگانه معروف</td>\n",
       "      <td>یگانه</td>\n",
       "      <td>معروف</td>\n",
       "      <td>Female</td>\n",
       "      <td>0.812</td>\n",
       "      <td>Iran, Islamic Republic of</td>\n",
       "      <td>0.435</td>\n",
       "    </tr>\n",
       "    <tr>\n",
       "      <th>9</th>\n",
       "      <td>ريحانه رفیعی</td>\n",
       "      <td>ريحانه</td>\n",
       "      <td>رفیعی</td>\n",
       "      <td>Female</td>\n",
       "      <td>0.900</td>\n",
       "      <td>Iraq</td>\n",
       "      <td>0.456</td>\n",
       "    </tr>\n",
       "  </tbody>\n",
       "</table>\n",
       "</div>"
      ],
      "text/plain": [
       "                 Name First Name Last Name  Gender  Gender Probability  \\\n",
       "0     Timothy Jenkins    Timothy   Jenkins    Male               0.988   \n",
       "1       Jordan Patton     Jordan    Patton    Male               0.893   \n",
       "2          Juan White       Juan     White    Male               0.987   \n",
       "3  Catherine Jennings  Catherine  Jennings  Female               0.994   \n",
       "4         مهدي تهرانی       مهدي    تهرانی    Male               0.967   \n",
       "5        Philip Huber     Philip     Huber    Male               0.988   \n",
       "6      سوگند محمد پور      سوگند      محمد  Female               0.915   \n",
       "7       Michael Jones    Michael     Jones    Male               0.992   \n",
       "8         یگانه معروف      یگانه     معروف  Female               0.812   \n",
       "9        ريحانه رفیعی     ريحانه     رفیعی  Female               0.900   \n",
       "\n",
       "                     Country  Country probability  \n",
       "0              United States                0.530  \n",
       "1              United States                0.342  \n",
       "2                   Colombia                0.235  \n",
       "3                     France                0.485  \n",
       "4                       Iraq                0.589  \n",
       "5             United Kingdom                0.306  \n",
       "6  Iran, Islamic Republic of                0.804  \n",
       "7              United States                0.407  \n",
       "8  Iran, Islamic Republic of                0.435  \n",
       "9                       Iraq                0.456  "
      ]
     },
     "execution_count": 24,
     "metadata": {},
     "output_type": "execute_result"
    }
   ],
   "source": [
    "df"
   ]
  },
  {
   "cell_type": "code",
   "execution_count": 25,
   "id": "008c4365",
   "metadata": {},
   "outputs": [],
   "source": [
    "def country_probability1(first_name, country):\n",
    "    return nd.search(first_name)['first_name']['country'][country]"
   ]
  },
  {
   "cell_type": "code",
   "execution_count": 26,
   "id": "16df133f",
   "metadata": {},
   "outputs": [
    {
     "data": {
      "text/plain": [
       "0.337"
      ]
     },
     "execution_count": 26,
     "metadata": {},
     "output_type": "execute_result"
    }
   ],
   "source": [
    "country_probability1('Kelly', 'United States')"
   ]
  }
 ],
 "metadata": {
  "kernelspec": {
   "display_name": "Python 3 (ipykernel)",
   "language": "python",
   "name": "python3"
  },
  "language_info": {
   "codemirror_mode": {
    "name": "ipython",
    "version": 3
   },
   "file_extension": ".py",
   "mimetype": "text/x-python",
   "name": "python",
   "nbconvert_exporter": "python",
   "pygments_lexer": "ipython3",
   "version": "3.7.11"
  }
 },
 "nbformat": 4,
 "nbformat_minor": 5
}
